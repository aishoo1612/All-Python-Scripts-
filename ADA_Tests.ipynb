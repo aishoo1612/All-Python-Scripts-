{
  "nbformat": 4,
  "nbformat_minor": 0,
  "metadata": {
    "colab": {
      "name": "ADA_Tests",
      "provenance": [],
      "authorship_tag": "ABX9TyPQ11w8tirPsgQ6fm59HovG",
      "include_colab_link": true
    },
    "kernelspec": {
      "name": "python3",
      "display_name": "Python 3"
    },
    "accelerator": "GPU"
  },
  "cells": [
    {
      "cell_type": "markdown",
      "metadata": {
        "id": "view-in-github",
        "colab_type": "text"
      },
      "source": [
        "<a href=\"https://colab.research.google.com/github/aishoo1612/All-Python-Scripts-/blob/master/ADA_Tests.ipynb\" target=\"_parent\"><img src=\"https://colab.research.google.com/assets/colab-badge.svg\" alt=\"Open In Colab\"/></a>"
      ]
    },
    {
      "cell_type": "code",
      "metadata": {
        "id": "zA4OkpoonZ0e"
      },
      "source": [
        "import time"
      ],
      "execution_count": 25,
      "outputs": []
    },
    {
      "cell_type": "code",
      "metadata": {
        "id": "strRNYyBmjuw"
      },
      "source": [
        "##Recursion "
      ],
      "execution_count": 26,
      "outputs": []
    },
    {
      "cell_type": "code",
      "metadata": {
        "colab": {
          "base_uri": "https://localhost:8080/"
        },
        "id": "KcJ1wSdxmou1",
        "outputId": "bf076acc-780f-41c5-cc7e-360fc45b9cc8"
      },
      "source": [
        " \r\n",
        "def recurse(S, m, n ): \r\n",
        "\r\n",
        "\tif (n == 0): \r\n",
        "\t\treturn 1\r\n",
        "\r\n",
        " \r\n",
        "\tif (n < 0): \r\n",
        "\t\treturn 0; \r\n",
        "\r\n",
        "\t\r\n",
        "\tif (m <=0 and n >= 1): \r\n",
        "\t\treturn 0\r\n",
        "\r\n",
        "\t\r\n",
        "\treturn recurse( S, m - 1, n ) + recurse( S, m, n-S[m-1] ); \r\n",
        "\r\n",
        "\r\n",
        "arr = [1, 2, 5,10] \r\n",
        "m = len(arr) \r\n",
        "start = time.time();\r\n",
        "print(recurse(arr, m, 4)) \r\n",
        "end = time.time();\r\n",
        "timeR = end-start \r\n",
        "\r\n",
        "print(f\"Runtime of the Recursive algorithms is {end - start}\")\r\n"
      ],
      "execution_count": 27,
      "outputs": [
        {
          "output_type": "stream",
          "text": [
            "3\n",
            "Runtime of the Recursive algorithms is 0.00011730194091796875\n"
          ],
          "name": "stdout"
        }
      ]
    },
    {
      "cell_type": "code",
      "metadata": {
        "id": "9tTd9-yFmwmg"
      },
      "source": [
        "##Dynamic Approach\r\n"
      ],
      "execution_count": 28,
      "outputs": []
    },
    {
      "cell_type": "code",
      "metadata": {
        "colab": {
          "base_uri": "https://localhost:8080/"
        },
        "id": "dMTaAmRbnIg1",
        "outputId": "6cb9a774-11a9-48ae-c5c1-f2bc6b0a9987"
      },
      "source": [
        "\r\n",
        "def dynamic(S, m, n): \r\n",
        "\r\n",
        "\t\r\n",
        "\ttable = [0 for k in range(n+1)] \r\n",
        "\r\n",
        "\ttable[0] = 1\r\n",
        " \r\n",
        "\tfor i in range(0,m): \r\n",
        "\t\tfor j in range(S[i],n+1): \r\n",
        "\t\t\ttable[j] += table[j-S[i]] \r\n",
        "\r\n",
        "\treturn table[n] \r\n",
        "\r\n",
        "\r\n",
        "arr = [1, 2, 5, 10] \r\n",
        "m = len(arr) \r\n",
        "n = 4\r\n",
        "start = time.time();\r\n",
        "x = dynamic(arr, m, n)\r\n",
        "end = time.time();\r\n",
        "\r\n",
        "timeD = end-start\r\n",
        "\r\n",
        "print (x) \r\n",
        "print(f\"Runtime of the Dynamic algorithms is {end - start}\")\r\n",
        "\r\n",
        "\r\n"
      ],
      "execution_count": 29,
      "outputs": [
        {
          "output_type": "stream",
          "text": [
            "3\n",
            "Runtime of the Dynamic algorithms is 4.029273986816406e-05\n"
          ],
          "name": "stdout"
        }
      ]
    },
    {
      "cell_type": "code",
      "metadata": {
        "id": "hZAQmzYUnJFL"
      },
      "source": [
        "#Greedy Approach"
      ],
      "execution_count": 30,
      "outputs": []
    },
    {
      "cell_type": "code",
      "metadata": {
        "colab": {
          "base_uri": "https://localhost:8080/"
        },
        "id": "JacR7i6BohkG",
        "outputId": "b06dc665-192d-4d75-bea3-6011024beb32"
      },
      "source": [
        "\r\n",
        "def greedy(V):\r\n",
        "\t\r\n",
        "\r\n",
        "\tdeno = [1, 2, 5, 10]\r\n",
        "\tn = len(deno)\r\n",
        "\t\r\n",
        "\r\n",
        "\tans = []\r\n",
        "\r\n",
        "\r\n",
        "\ti = n - 1\r\n",
        "\twhile(i >= 0):\r\n",
        "\t\t\r\n",
        "\t\t\r\n",
        "\t\twhile (V >= deno[i]):\r\n",
        "\t\t\tV -= deno[i]\r\n",
        "\t\t\tans.append(deno[i])\r\n",
        "\r\n",
        "\t\ti -= 1\r\n",
        "\r\n",
        "\t\r\n",
        "\tfor i in range(len(ans)):\r\n",
        "\t\tprint(ans[i], end = \" \")\r\n",
        "  \r\n",
        "\r\n",
        "n = 4\r\n",
        "start = time.time()\r\n",
        "greedy(n)\r\n",
        "end = time.time()\r\n",
        "timeG = end - start\r\n",
        "print(f\"Runtime for Greedy Approach is {end-start}\")\r\n",
        "  "
      ],
      "execution_count": 31,
      "outputs": [
        {
          "output_type": "stream",
          "text": [
            "2 2 Runtime for Greedy Approach is 0.0002970695495605469\n"
          ],
          "name": "stdout"
        }
      ]
    },
    {
      "cell_type": "code",
      "metadata": {
        "id": "ZUSFoGRVoiWg"
      },
      "source": [
        "#Making a plot"
      ],
      "execution_count": 32,
      "outputs": []
    },
    {
      "cell_type": "code",
      "metadata": {
        "id": "pr4Yr3hTrEJv"
      },
      "source": [
        "from matplotlib import pyplot as plt"
      ],
      "execution_count": 33,
      "outputs": []
    },
    {
      "cell_type": "code",
      "metadata": {
        "id": "AgXrVQMPrICc"
      },
      "source": [
        "x_axis = [timeR, timeG, timeD]"
      ],
      "execution_count": 34,
      "outputs": []
    },
    {
      "cell_type": "code",
      "metadata": {
        "id": "4z980-90rN8_"
      },
      "source": [
        "y_axis = [\"Recursion\",\"Greedy\", \"Dynamic\"]"
      ],
      "execution_count": 35,
      "outputs": []
    },
    {
      "cell_type": "code",
      "metadata": {
        "colab": {
          "base_uri": "https://localhost:8080/",
          "height": 297
        },
        "id": "l6Q64ozarjk6",
        "outputId": "1c661098-ea44-4b70-e7b0-abd76c8371cd"
      },
      "source": [
        "plt.plot(x_axis, y_axis, scalex= True, scaley = True)\r\n",
        "plt.xlabel(\"Time Taken by Various Algorithms\")\r\n",
        "plt.ylabel(\"Different Approaches took\")\r\n",
        "\r\n"
      ],
      "execution_count": 40,
      "outputs": [
        {
          "output_type": "execute_result",
          "data": {
            "text/plain": [
              "Text(0, 0.5, 'Different Approaches took')"
            ]
          },
          "metadata": {
            "tags": []
          },
          "execution_count": 40
        },
        {
          "output_type": "display_data",
          "data": {
            "image/png": "[encoded data removed]",
            "text/plain": [
              "<Figure size 432x288 with 1 Axes>"
            ]
          },
          "metadata": {
            "tags": [],
            "needs_background": "light"
          }
        }
      ]
    },
    {
      "cell_type": "code",
      "metadata": {
        "id": "AFfwoFvkrxw5"
      },
      "source": [
        "###Comparing Functions by running them 10,000 times"
      ],
      "execution_count": 37,
      "outputs": []
    },
    {
      "cell_type": "code",
      "metadata": {
        "colab": {
          "base_uri": "https://localhost:8080/",
          "height": 386
        },
        "id": "lDbRGmih-Nea",
        "outputId": "52add12e-4133-44a2-fa3d-537b98c8385f"
      },
      "source": [
        "import timeit\r\n",
        "print(timeit.timeit(recurse(arr, 4,4), number=10000))\r\n",
        "\r\n",
        "print(timeit.timeit(greedy(4), number=10000))\r\n",
        "\r\n",
        "print(timeit.timeit(dynamic(arr,4,4), number=10000))"
      ],
      "execution_count": 39,
      "outputs": [
        {
          "output_type": "error",
          "ename": "ValueError",
          "evalue": "ignored",
          "traceback": [
            "\u001b[0;31m---------------------------------------------------------------------------\u001b[0m",
            "\u001b[0;31mValueError\u001b[0m                                Traceback (most recent call last)",
            "\u001b[0;32m<ipython-input-39-267e0d9c07ab>\u001b[0m in \u001b[0;36m<module>\u001b[0;34m()\u001b[0m\n\u001b[1;32m      1\u001b[0m \u001b[0;32mimport\u001b[0m \u001b[0mtimeit\u001b[0m\u001b[0;34m\u001b[0m\u001b[0;34m\u001b[0m\u001b[0m\n\u001b[0;32m----> 2\u001b[0;31m \u001b[0mprint\u001b[0m\u001b[0;34m(\u001b[0m\u001b[0mtimeit\u001b[0m\u001b[0;34m.\u001b[0m\u001b[0mtimeit\u001b[0m\u001b[0;34m(\u001b[0m\u001b[0mrecurse\u001b[0m\u001b[0;34m(\u001b[0m\u001b[0marr\u001b[0m\u001b[0;34m,\u001b[0m \u001b[0;36m4\u001b[0m\u001b[0;34m,\u001b[0m\u001b[0;36m4\u001b[0m\u001b[0;34m)\u001b[0m\u001b[0;34m,\u001b[0m \u001b[0mnumber\u001b[0m\u001b[0;34m=\u001b[0m\u001b[0;36m10000\u001b[0m\u001b[0;34m)\u001b[0m\u001b[0;34m)\u001b[0m\u001b[0;34m\u001b[0m\u001b[0;34m\u001b[0m\u001b[0m\n\u001b[0m\u001b[1;32m      3\u001b[0m \u001b[0;34m\u001b[0m\u001b[0m\n\u001b[1;32m      4\u001b[0m \u001b[0mprint\u001b[0m\u001b[0;34m(\u001b[0m\u001b[0mtimeit\u001b[0m\u001b[0;34m.\u001b[0m\u001b[0mtimeit\u001b[0m\u001b[0;34m(\u001b[0m\u001b[0mgreedy\u001b[0m\u001b[0;34m(\u001b[0m\u001b[0;36m4\u001b[0m\u001b[0;34m)\u001b[0m\u001b[0;34m,\u001b[0m \u001b[0mnumber\u001b[0m\u001b[0;34m=\u001b[0m\u001b[0;36m10000\u001b[0m\u001b[0;34m)\u001b[0m\u001b[0;34m)\u001b[0m\u001b[0;34m\u001b[0m\u001b[0;34m\u001b[0m\u001b[0m\n\u001b[1;32m      5\u001b[0m \u001b[0;34m\u001b[0m\u001b[0m\n",
            "\u001b[0;32m/usr/lib/python3.6/timeit.py\u001b[0m in \u001b[0;36mtimeit\u001b[0;34m(stmt, setup, timer, number, globals)\u001b[0m\n\u001b[1;32m    231\u001b[0m            number=default_number, globals=None):\n\u001b[1;32m    232\u001b[0m     \u001b[0;34m\"\"\"Convenience function to create Timer object and call timeit method.\"\"\"\u001b[0m\u001b[0;34m\u001b[0m\u001b[0;34m\u001b[0m\u001b[0m\n\u001b[0;32m--> 233\u001b[0;31m     \u001b[0;32mreturn\u001b[0m \u001b[0mTimer\u001b[0m\u001b[0;34m(\u001b[0m\u001b[0mstmt\u001b[0m\u001b[0;34m,\u001b[0m \u001b[0msetup\u001b[0m\u001b[0;34m,\u001b[0m \u001b[0mtimer\u001b[0m\u001b[0;34m,\u001b[0m \u001b[0mglobals\u001b[0m\u001b[0;34m)\u001b[0m\u001b[0;34m.\u001b[0m\u001b[0mtimeit\u001b[0m\u001b[0;34m(\u001b[0m\u001b[0mnumber\u001b[0m\u001b[0;34m)\u001b[0m\u001b[0;34m\u001b[0m\u001b[0;34m\u001b[0m\u001b[0m\n\u001b[0m\u001b[1;32m    234\u001b[0m \u001b[0;34m\u001b[0m\u001b[0m\n\u001b[1;32m    235\u001b[0m def repeat(stmt=\"pass\", setup=\"pass\", timer=default_timer,\n",
            "\u001b[0;32m/usr/lib/python3.6/timeit.py\u001b[0m in \u001b[0;36m__init__\u001b[0;34m(self, stmt, setup, timer, globals)\u001b[0m\n\u001b[1;32m    128\u001b[0m             \u001b[0mstmt\u001b[0m \u001b[0;34m=\u001b[0m \u001b[0;34m'_stmt()'\u001b[0m\u001b[0;34m\u001b[0m\u001b[0;34m\u001b[0m\u001b[0m\n\u001b[1;32m    129\u001b[0m         \u001b[0;32melse\u001b[0m\u001b[0;34m:\u001b[0m\u001b[0;34m\u001b[0m\u001b[0;34m\u001b[0m\u001b[0m\n\u001b[0;32m--> 130\u001b[0;31m             \u001b[0;32mraise\u001b[0m \u001b[0mValueError\u001b[0m\u001b[0;34m(\u001b[0m\u001b[0;34m\"stmt is neither a string nor callable\"\u001b[0m\u001b[0;34m)\u001b[0m\u001b[0;34m\u001b[0m\u001b[0;34m\u001b[0m\u001b[0m\n\u001b[0m\u001b[1;32m    131\u001b[0m         \u001b[0msrc\u001b[0m \u001b[0;34m=\u001b[0m \u001b[0mtemplate\u001b[0m\u001b[0;34m.\u001b[0m\u001b[0mformat\u001b[0m\u001b[0;34m(\u001b[0m\u001b[0mstmt\u001b[0m\u001b[0;34m=\u001b[0m\u001b[0mstmt\u001b[0m\u001b[0;34m,\u001b[0m \u001b[0msetup\u001b[0m\u001b[0;34m=\u001b[0m\u001b[0msetup\u001b[0m\u001b[0;34m,\u001b[0m \u001b[0minit\u001b[0m\u001b[0;34m=\u001b[0m\u001b[0minit\u001b[0m\u001b[0;34m)\u001b[0m\u001b[0;34m\u001b[0m\u001b[0;34m\u001b[0m\u001b[0m\n\u001b[1;32m    132\u001b[0m         \u001b[0mself\u001b[0m\u001b[0;34m.\u001b[0m\u001b[0msrc\u001b[0m \u001b[0;34m=\u001b[0m \u001b[0msrc\u001b[0m  \u001b[0;31m# Save for traceback display\u001b[0m\u001b[0;34m\u001b[0m\u001b[0;34m\u001b[0m\u001b[0m\n",
            "\u001b[0;31mValueError\u001b[0m: stmt is neither a string nor callable"
          ]
        }
      ]
    },
    {
      "cell_type": "code",
      "metadata": {
        "id": "ZZpOuypT-sbs"
      },
      "source": [
        ""
      ],
      "execution_count": null,
      "outputs": []
    }
  ]
}