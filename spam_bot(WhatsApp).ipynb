{
  "nbformat": 4,
  "nbformat_minor": 0,
  "metadata": {
    "colab": {
      "name": "spam_bot(WhatsApp)",
      "provenance": [],
      "authorship_tag": "ABX9TyNBpA91MZWeP4QtYStwyyWg"
    },
    "kernelspec": {
      "name": "python3",
      "display_name": "Python 3"
    }
  },
  "cells": [
    {
      "cell_type": "code",
      "metadata": {
        "id": "hrjdIzFuA9_J",
        "colab_type": "code",
        "colab": {}
      },
      "source": [
        "from google.colab import files\n",
        "uploaded = files.upload()"
      ],
      "execution_count": null,
      "outputs": []
    },
    {
      "cell_type": "code",
      "metadata": {
        "id": "wg2C2Ut1BFej",
        "colab_type": "code",
        "colab": {}
      },
      "source": [
        "!pip install pyautogui\n"
      ],
      "execution_count": null,
      "outputs": []
    },
    {
      "cell_type": "code",
      "metadata": {
        "id": "3Bn1zoqMBS7k",
        "colab_type": "code",
        "colab": {}
      },
      "source": [
        "import pyautogui"
      ],
      "execution_count": null,
      "outputs": []
    },
    {
      "cell_type": "code",
      "metadata": {
        "id": "CkeapnVqBdac",
        "colab_type": "code",
        "colab": {}
      },
      "source": [
        "time.sleep(5)\n",
        "f = open(\"beemovie\", \"r\")\n",
        "for word in f:\n",
        "  pyautogui.typewrite(word)\n",
        "  pyautogui.press(\"enter\")"
      ],
      "execution_count": null,
      "outputs": []
    },
    {
      "cell_type": "code",
      "metadata": {
        "id": "xz5QLfMZB31q",
        "colab_type": "code",
        "colab": {}
      },
      "source": [
        ""
      ],
      "execution_count": null,
      "outputs": []
    }
  ]
}